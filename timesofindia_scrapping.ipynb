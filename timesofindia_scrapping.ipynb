{
 "cells": [
  {
   "cell_type": "code",
   "execution_count": null,
   "metadata": {},
   "outputs": [
    {
     "name": "stdout",
     "output_type": "stream",
     "text": [
      "[INFO] Extracting links...\n",
      "['Effective UV Phone Sanitizers To Keep Germs Off Your Smartphones', 'Noida: Sanitation workers of Gautam Budh University protest against salary cut', 'COVID-19: Save your skin from the excessive handwashing', 'Air sanitizer sprays that will ensure clean air in your room', 'Locals clash with sanitation workers over trash removal', 'Touchless Automatic Hand Sanitizer Dispenser Suitable For Homes And Commercial Premises', 'Toilet seat sanitizer sprays: Compact bottles that will easily fit in your handbag', 'Delhi: Place us on vaccination priority list too, say sanitation workers', 'Sanitizer case: Three contractual employees terminated', 'Maharashtra made little progress on sanitation, water projects', 'Private schools in Telangana to collect sanitation fee', 'CM stresses on sanitation at govt hosps', 'Vadodara sanitation workers averse to jab', 'Export ban on alcohol-based hand sanitizers lifted', 'JMC Greater mayor takes stock of sanitation work', 'Sanitiser industry booms in Gujarat post Covid', 'Andhra Pradesh: Pedana municipal chief attacked over harassment allegations', 'Hand Sanitizer buying guide: Quality, effectiveness, price & more', 'Sanitation staff trained in use of robots, machines', 'Sanitation drive in Trichy from today']\n",
      "['Govt busy with politics, sanitation faces neglect', 'Green belts, roads cleared of garbage & illegal ads', 'Sanitation fees in Margao questioned', 'Disinfectant for clothes: Fabric sanitizers for ensuring proper hygiene', 'Sanitation employees in Hyderabad threaten strike', 'Sanitizers, gloves for voters at all poll booths', 'Database of sanitation workers for free vaccine', 'Ahmedabad: Man threatens friend with acid in sanitizer bottle', 'Gujarat: Now, hand sanitizer made from gomutra', 'Mask, sanitizer demand declines as cases dip', 'UV Sterilizer Box to kill off germs from your Mobile Phones', 'Pay of sanitation workers increased', 'Sanitation staff oppose checking by superintendents, hold protest', '‘Health, sanitation & security are priority’', 'Trichy sanitation drive a damp squib', 'How will schools function without sanitation: Teachers', 'Sanitation worker dies hours after vaccination in Vadodara', 'UV lamps to sanitize Lucknow Metro coaches', 'Food and Drug Administration has issued warning against 9 hand sanitizers', 'Kerala: Health department suggests sanitation measures for school reopening']\n",
      "['DCP Gajanan Rajmane honours sanitation staffers on Independence Day', 'TNUSSP honours seven people who fought gender bias in field of sanitation', 'Thane societies to be liable for deaths of sanitation workers', 'Haryana registers FIRs against 11 sanitizer brands after sample fail quality test', 'Ahmedabad: Sanitation inspector prepping for minister tour thrashed', 'Smiles, sanitizers welcome students as schools reopen in Delhi', 'Swachh race: GHMC caught napping on sanitation', '2 Ezra Street shops raided, 1,400L ‘toxic’sanitizer seized', 'Sanitation worker 1st to get vax in hospital', 'Sanitation worker likely to be first vaccine recipient in Odisha', 'Tender floated in Bengal for poll masks, sanitizers', 'Schools demand sanitization expenses before board exams', 'All govt schools in Telangana lack sanitation staff', 'EDMC banks on safai feedback', 'Medicines, hand sanitizers gutted in godown fire', 'This is how long the hand sanitizer lasts on your hand', 'Medicines and hand sanitizers gutted in Coimbatore godown fire', 'Hyderabad: Sanitation activities on fast track ahead of GHMC polls', 'Andhra Pradesh: Local sanitizers give legacy brands a run for their money', 'Delhi sanitation worker dies four days after vaccine jab']\n",
      "['Musi revival: Citizens can breathe easy along river', \"Advocates question move of children's admission in court crèche during pandemic times\", 'Dismayed over sanitization cost, schools wary of reopening', 'Noida: Despite incentives, turnout under 40% in last jab round', 'Gurugram: Foetus found in drain, sanitation staff alert cops', 'SDMC to give house, job to kin of deceased Covid-19 warriors', 'Mayor meets family members of sanitation worker who died of health complications', 'IIT-Guwahati students build pocket-sized device to sanitise surfaces', 'Malba dumping on roadsides, green belts rampant in Sector 15', 'Bihar: ‘No nervousness in getting 2nd shot of Covid vaccine’', 'Kolkata: Weekend cleaning for Monday reopening', 'Job lost, sanitation worker found hanging in Noida', 'Clogged drain or waste pile, 16 teams will clear it in 4 hrs', \"Rajasthan: Staff's dance video from ICU goes viral, hospital sacks one, transfers two\", 'Chhatrapati Shivaji Maharaj International airport awarded by ACI', 'Birders spot 122 species of birds at annual Manipal Bird Day', 'Delhi HC picks nodal officer to sort out safai staff’s woes', 'Sanitation worker dies of asphyxiation', 'Kolkata: From today, schools to tell kids, parents of campus dos and don’ts', 'Sanitation staff crunch hits road cleanliness']\n",
      "['Sanitation worker at NMC hospital detained', 'Gurugram: Hire sanitation workers based on area population, officials told', 'Osmania University issues notice to reopen hostels from February 16', 'JMC Heritage to allot sanitation workers to each colony', 'No masks + No physical distancing + No sanitizers = Spike in Covid-19 cases', 'East Delhi Municipal Corporation to regularise all safai staff till 2006', 'Instead of polio drops, 12 kids given sanitizer in Maharashtra', 'Safai staff is back, clean-up resumes in Delhi', 'It’s a film that upholds our right to education, dignity and sanitation', 'Manesar corporation seeks government nod for nearly 1,500 posts', 'Delhi: Demands met, most safai staff relent', 'HC to close for three days for sanitization of campus', 'Sanitisation of premises will take time, business to start on Tuesday', 'Maharashtra: Mask, sanitizer sales plunge as people throw caution to the wind', \"'Access to bare necessities has improved in all states'\", 'Avian flu cases, bird deaths on steady decline across state', 'After New York subway, Lucknow Metro becomes second to use UV lamps to sanitize train coaches', 'Tag JMC mayor on Twitter for sanitation complaints', 'Miffed with non-payment of salaries, sanitation staff goes on strike in Piran Kaliyar', 'North Delhi Municipal Corporation has promises to keep as stink rises']\n",
      "['Frontline workers serving the Republic during pandemic: Delhi CM', 'Park trysts and sanitizer gifts: Dating goes off-screen again', 'Delhi: No end in sight to civic staff strike as talks fail', 'AAP, BJP continue to spar over corporations', 'UP couple name their son Sanitizer as Covid-19 triggers naming spree', 'Dirty hands stain hand-rubs', \"Mystery ailment spreads to AP's Bhimadole, three more cases surface\", 'Tamil Nadu: Man dies after drinking hand sanitizer', 'Delhi: Salary stir enters 17th day, garbage piles up in areas', 'North Delhi Municipal Corporation announces release of salaries a day after staff protest', 'Bihar: Registration begins for 2nd phase of vaccination', 'GHMC deploys sanitation, Asha workers for poll duty', 'Dhanbad sanitation workers oppose retrenchment, threaten to hit streets', 'FDCA raids unit illegally making sanitizer, seizes items worth Rs 34 lakh in Ahmedabad', 'Hand sanitiser apps are a reality and you should not take them seriously', 'THIS is how you should apply hand sanitizer to kill 99.9 per cent of germs', 'FDCA nod to 134 Gujarat companies to make hand sanitizer', 'Regularise sanitation staff, Telangana HC tells municipal corporation', 'Gurugram: From 37th to 1st on vaccine list', 'Andhra Pradesh govt mulls slashing additional retail tax to relieve tipplers']\n",
      "['Andhra Pradesh govt mulls slashing additional retail tax to relieve tipplers', 'Andhra Pradesh govt mulls slashing additional retail tax to relieve tipplers', '‘Don’t go for the 1st round, my kids said’', 'After initial apprehensions, opening day ends with 95% turnout in Ghaziabad, 1/3rd stay away in Noida', 'Cold feet, illness among reasons behind no-shows', 'Nurse, 68, oldest healthcare worker to get vax in Goa', 'Worth the vial: Goa can finally breathe easy', 'From paediatric vaccinator to Covid warrior', '‘Vaccine only way forward, side-effects are all hype’', 'Thrilled to set an example, say frontline staff', 'Will continue working without hesitation, says sanitation worker who received Covid-19 vaccine shot', 'Wait over, Bihar ready to knock out Covid with jab', 'Kurichedu sanitizer deaths: 10 arrested for manufacturing and selling spurious sanitizers', \"MCD councillors, officers living like lords, while Covid-19 workers don't get pay: Delhi HC\", 'Pune: Ex-cop loses Rs 10,000 to ATM sanitization trick by duo', 'Sanitation workers, gardeners’ protest suspended for 10 days', 'Gujarat: Sanitation worker dies hours after getting Covid-19 vaccine', 'Sanitation work is permanent: Telangana HC', \"Chandigarh's young cricketer wants to be an actor to promote sports and sanitation\", \"Chandigarh's young cricketer wants to be an actor to promote sports and sanitation\"]\n"
     ]
    },
    {
     "name": "stdout",
     "output_type": "stream",
     "text": [
      "['Government caps maximum retail price of 200ml hand sanitizer at Rs 100 till June', 'In Secunderabad Cantonment Board, 3rd round of sanitisation on', 'In the grip of mystery disease, idyllic village seeks clean water, sanitation', 'Focus on sanitation, garbage collection in JMC Greater’s 1st GBM', 'Telangana: Students in educational institutions get masks, sanitizers in Hyderabad', 'Noida Authority meets sanitation staff', 'UP: Kin, colleagues blame nagar palika for sanitation worker’s death, seek compensation', 'Louis Vuitton owner just moved the internet by announcing that its perfume factory will produce hand sanitizer to fight Coronavirus', 'Virat Kohli named brand ambassador for sanitation brand', \"Coronavirus: Hand sanitizers can hurt children's eyes, study claims\", 'Board to bear exam centre sanitization costs', 'Delhi airport to relocate UV sanitisation tunnels to inline baggage handling system', 'Government bans export of alcohol-based hand sanitisers', 'Ahaana Krishna tests negative for COVID-19', 'MP: Gwalior civic chief, Katni SP removed', 'Surat: Eunuchs reach out to lockdown-hit needy', 'Gujarat: Now, water-based hand sanitizers', 'JNTU-H & OU seek sanitation, logistical plans from colleges', 'Sanitation workers in UP ‘forced’ to donate Rs 100 for Ram Mandir', 'Cards not sanitized, gamblers booked']\n",
      "['Pune: Schools’ support staff play crucial role to keep teachers, students safe', 'Covid: Sanitation staff, pharmacists may be on 1st vax list', 'In 2 months, 7 die after drinking hand sanitizer in Vijayawada', '2020 in a review: Masks, oximeters & weight loss products are highly-sold products in Health & Fitness from TOI Most Searched Products', 'Amid the pandemic, GHMC rakes in over Rs 2,000 crore revenue', 'RMC sanitation workers strike called off after mayor’s intervention', 'Private schools in Telangana want sanitation fee to ward off Covid', 'Pune: Enthusiasts make sanitizers at home', 'Maharashtra govt says usher in New Year at home, makes businesses unhappy', 'GHMC workers accuse pvt firms of cheating, blackmail', 'GGH sanitation worker gets first Covid vaccine shot in Andhra Pradesh', 'GGH sanitation worker gets first Covid vaccine shot in Andhra Pradesh', 'GGH sanitation worker gets first Covid vaccine shot in Andhra Pradesh', 'Sanitation worker at Gandhi gets Telangana’s first Covid vaccine shot', 'Ludhiana businessman develops automatic sanitation machine', 'Sanitizers are disinfectants like soaps, dettol; attract 18% GST: Finance ministry', 'Kerala will achieve total sanitation status in 2021-22: Isaac', 'Year-end rush pushes up sales at shopping hubs in Kolkata', 'Sanitation worker gets first shot of Covid-19 vaccine in Andhra Pradesh', 'Garbage left on Vastrapur roads']\n",
      "['Sanitation workers to get first Covid-19 vaccines in Madhya Pradesh', 'Congress slams Bihar govt over ‘poor’ sanitation', 'BSSS students are indulging in sanitizer making', 'Uttar Pradesh aims to snare China’s global sanitizer market', 'Loan denied, sanitation workers dump garbage outside bank in protest', 'Sanitizer, protective gear given as part of poll material', 'KSR Bengaluru City railway station gets mask and sanitizer dispenser machine', 'NDMC to train its safai staff in critical aid', 'Disinfectant sprays: Affordable & handy options to keep your surroundings clean', 'Sanitation worker who handled Covid victims’ bodies honoured', \"Sanitation drives to mark Vijaydashmi in UP's GB Nagar\", 'Mission Clean Buddha Nullah: 30 traffic marshals, 60 sanitation staff deployed', 'Exams: Who will bear sanitization cost, ask schools', 'Pune: Early finish, restricted attendance at ‘midnight’ mass in pandemic year', 'RMC to intensify sanitation work during festive season', 'ACS warns of action for slackness in preparation of sanitation map, DPR', 'Salons, beauty parlours resume business on a cautious note in Pune', 'Telangana govt gears up for waste management in city', 'Pune: Barbers to scrub and sterilize before they get snipping again', 'Hand Sanitizer: Maintain your hygiene in an easy way']\n",
      "['Get rid of dry skin, follow these fail-safe tips', 'Outsourced sanitation workers take mass holiday', \"Kolkata's Kalighat temple installs chemical-free sanitization tunnels\", 'Using public restroom during the pandemic, safe or not?', 'Chandigarh based NGO distributes blankets & essentials to protesting farmers', 'Allowing maids from non-containment zones is a must, federations tell housing societies', 'Cap on sanitizer, mask prices soon', 'Dalgona coffee, sanitizers and cake — What people googled in 2020', 'Gujarat companies produce 2 crore litres of sanitiser a day', 'Gujarat: Odhav man dies after ‘mistakenly’ drinking sanitiser', 'Covid-19 scare: Untested, Kochi corporation health workers a worried lot', 'Ensure hand sanitizers in aircraft; minimise crew interaction with flyers: DGCA tells airlines', 'LG Styler clothes steamer and sanitizer launched at Rs 1,60,000', 'Delhi: As sanitation crisis looms at dharna sites, corporation deploys special teams', 'AFI, HI come up with SOPs: No team championships and relay events, athletes will pass through ‘sanitiser tunnel’', 'Tamil Nadu colleges reopen, students stay away', 'Pile of trash line Rudrapur streets even as sanitation workers end strike', 'GHMC elections: Sanitation, distancing norms flouted at polling stations', 'Gujarat: Touchless sanitiser keeps machine clean', 'Visakhapatnam: Man mistakes sanitizer for water, dies']\n",
      "['Societies help the Mumbai get back to its feisty self and usher in new ‘cool’', 'Kids at Agra juvenile home living in dirty conditions', 'Hand sanitizer makers see 10-folds jump in sales; ramp up production', 'Trichy corporation provides hand sanitizer at bus stops', '‘Govt focus is to ensure access to water, sanitation to marginalised’', 'Patna: Social distancing norms, use of masks go for a toss', 'PMC conducts anti-larva operation', '‘UV sanitizers only for surfaces’', 'Covid overcaution bringing other ailments to many', '5 sanitation staff test positive', 'Bengal: No reopening decision yet for schools either', 'Tourism body appeals govt over sanitation', 'Birthday Pledge: Suresh Raina to build sanitation, drinking water facilities at 34 schools', 'Rs 8 crore loan for redevelopment of Kadri Market', '40% of sanitation staff yet to join work', 'Sanitation staff can’t be sacked: Telangana HC', 'GPS watches: Chandigarh sanitation staff to protest on Feb 27', 'Mangaluru: Rs 8 crore loan for redevelopment of Kadri Market', 'Man held for selling spurious sanitizers', 'MC commissioner ticks off staff for ‘unclean’ Suvidha Centre']\n",
      "['India will support a possibility for world to get access to clean drinking water: Suresh Prabhu', '20 per cent of rural households in Karnataka lack toilets', 'Ghats ready to host Chhath devotees today', 'Lucknow: Thermal scan, sanitization must before entry to ghats', 'Mumbai: Upmarket schools pull out all stops, but others struggle to buy sanitisers', 'Sanitation workers stage dharna in Muzaffarnagar city to press for unpaid wages', 'UV rays to sanitize OMR sheets for UPSEE aspirants', 'Noida: Lathicharge on sanitation workers during protest', 'Toilet Seat Sanitizer Spray: Prevent infections when using public washrooms', 'Actors Madhavan, Tapsee Pannu and other celebs to speak about sanitation', 'Migrants returning to Surat greeted with masks, sanitizers', 'Sanitizer dispensers in demand as shops, offices open for business', 'MCemployees push for better working conditions for sewermen, sanitation staff', '21 cities in Ganga basin dump 60% of excreta into river: CSE report', 'Happy Diwali 2020: Important health tips to follow for a safe Diwali in the times of coronavirus and rising air pollution', 'Mysuru City Corporation restricts number of cracker shops', 'Patna: Civic bodies to hire agencies for sanitation', 'HC closed on Sept 14-15 for sanitization', 'On day 3 of sanitation workers strike, Patna DM takes steps to remove garbage', 'Pay sanitation worker as much as class-IV staffer: Rajasthan HC to govt']\n",
      "['Online tickets, sanitization breaks to be normal at zoos', 'Doc designs wearable sanitizer', 'Poor garbage collection service causing sanitation woes in Vijaypur', 'Agra’s sanitation workers went on strike', 'After 21 days of quarantine, 65 sanitation workers of Doiwala set to resume work today', 'Lucknow Metro unlocks with UV sanitized tokens', 'Essentials, food given in Malkajgiri', 'No need to clean veggies, fruits with soap or sanitizer: Experts', 'Sanitation workers, helpers honoured', 'Uttar Pradesh supplied 14.5 lakh litre sanitiser to states during lockdown', 'Ink splashed on Surat Municipal Corporation health officer', 'Rajasthan Covid cases jump from 1 lakh to 2 lakh in 51 days', 'Liquor prices cut to curb deaths due to sanitizer ingestion: Andhra Pradesh deputy CM', 'Bhopal: It takes 1 Lakh litre sanitiser, 56,000 PPE kits for bypolls in Coronavirus times', 'Haryana: Sanitiser given to farmers under National Horticulture Mission', 'Sanitization teams to tag along with sector magistrates to Bermo poll booths', '50% sanitizers consumer body tested ‘adulterated’', 'Coronavirus: Ludhiana residents honour firefighters, sanitation staff for their services', 'Deploy bigger fire tenders to sanitise highrises, say Greater Noida residents', 'UP produces record 177 lakh sanitizer, nets Rs 137 crore']\n"
     ]
    },
    {
     "name": "stdout",
     "output_type": "stream",
     "text": [
      "['SDMC’s sanitation worker who tested positive for coronavirus dies at AIIMS', 'Swaraj Barik takes precaution while gymming', 'Jharkhand: Delay in shifting pipelines, drains stall widening work on NH-33', 'UP has produced 1.7 crore litres of sanitizer since March', 'Trouble at forefront: Two sanitation workers, one inspector test Covid-19 positive in Delhi', 'Hyderabad: Sanitation drive to clean city parks starts', 'Two sanitation workers felicitated', \"Director Garima Kaul's 'Desire?' uncloaks the realities of asexuality\", 'Delhi corporations list 815 safai staff to clean Azadpur mandi', 'Jaipur: Pay to get your bags sanitised at station', 'Coronavirus: Timex India employee develops in-house disinfecting chamber with automatic hand sanitizer dispenser', 'Sanitation workers’ strike forces GMCH to postpone 20 surgeries', 'Man booked under NSA for axe attack on sanitation worker in Madhya Pradesh', 'Ahmedabad: This van can sanitize eight policemen in just 30 seconds', 'Chandigarh municipal corporation cedes some ground, but safai workers don’t budge', 'Docs asked to be wary of fake sanitizer', 'Coir corp launches sanitizer mats', 'Students develop automated sanitizer dispenser', 'Five arrested for selling, buying sanitizers as liquor ‘substitute’', 'Sanitize, wrap luggage at Pune railway station']\n",
      "['Residents of Dudli area grapple with sanitation woes', 'Jaipur: Two sanitation workers among 3 arrested for smuggling gold', 'Covid-19: Disinfectant spray and sanitization drives on in Punjab', 'Ration, PPE to sanitation workers', 'Ahmedabad: Police create sanitization van for personnel on lockdown duty', 'KMC sanitizes Ganga Apartment', 'BJP blames Delhi govt, DJB says accident site is not under its purview', 'Bhubaneswar civic body distributes safety kits among sanitation workers', '‘Complete lockdown’ plan for 10 Covid-19 hotspots in West Bengal', 'IIT-H provides sanitisers to Sangareddy dist admin', 'Ahmedabad railway station gets sanitizing tunnel', 'More buses for sanitation staff in Telangana', 'At the movies, keep the mask on', 'Delhi: Not segregating waste? you are being scanned', 'SOPs for cultural events: Artistes, crew need Covid-negative certificate', 'Ahmedabad girl raises funds to supply eco-friendly sanitary pads', 'Nivea to make sanitizers in Sanand', 'Masks, sanitizer & distancing: Covid precautions mark Karwa Chauth celebrations', 'Vijayawada fire: Did sanitizer stock trigger the blaze?', 'Behind in polls, Trump launches swing state blitz']\n",
      "['Health checkup for sanitation workers', 'EID Parry launches Handkleen sanitizer', 'Cleaning rare, it’s a den of snakes: Sector 9A residents', 'Sanitation tunnels opened in Thrissur', 'Four die in Tirupati after drinking hand sanitizer', 'Kerala government to rate local bodies for sanitation status: CM Pinarayi Vijayan', 'Yogi Adityanath pledges to curb Covid-19 in UP with special sanitization campaign', 'Schools ready with new tools for safety in Lucknow', 'In dry Gujarat, hooch den proposes to make sanitizers', 'Kolkata airport gets UV tunnel to sanitize flyers’ baggage', 'Breathing with face mask does not alter oxygen level; virus can last nine hours on skin', 'Masks, sanitizers being sold without bills to evade action', 'FMCG makers reduce hand sanitizer prices as per government directive', 'AAP alleges move to hand over sanitation to private agency', 'Mohammedan Sporting install sanitizing tunnel at club tent', 'Restaurants to open today, with caution', 'Valmiki community protest on; safai workers pelt stones', 'Kolkata gyms add sanitization charges to membership fee', 'Teenager creates special box to sanitize veggies, grocery items', 'Gujarat: Sanitation helpline gets 123 calls in 3 days']\n",
      "['Maharashtra government issues guidelines for restaurants which are set to reopen', 'Soak pits built under MGNREGS improve sanitation in Dharwad villages', 'Fake sanitizer making unit raided in Nagpur', 'Sanitizer production up in Kandla SEZ', 'Fake hand sanitiser unit raided, six held in Pune', 'Kanyakumari SHGs to manufacture sanitizers and sell them at low price', 'Two weeks on, no sanitization in Agra markets', 'Beware, 43% ATMs in Kerala lack sanitization facilities', 'Two arrested for stabbing SMC sanitation worker', 'Bhopal sanitation workers stop work to protest UP horror', 'Sanitation workers rise in protest, block roads, refuse to work', 'Andhra Pradesh: 50-year-old sanitation worker dies 24 hours after getting vaccine shot in Tirupati', 'FDA warns Americans of toxic hand sanitizers', 'Homes of patients, kin sanitized', 'SMC sanitation worker stabbed 30 times', 'SmartClean aims global expansion with IoT and AI-driven sanitization solutions', 'Sanitation staff paid well, can’t regularise service: GHMC', 'The use of hand sanitizer: Safety vs effects on skin', 'Daily sanitization to cost Rs4,000, need funds: Schools', 'Sanitation workers demand their dues']\n",
      "['Coronavirus scare: Rs 2 lakh fake sanitisers seized in Mumbai', 'College comes up with low-cost sanitizer', 'Coronavirus: This is how Samsung plans to help fight COVID-19 infection', 'Maharashtra: ‘Agents’ charge Rs 100 to sanitise vehicles at RTO', 'Activist moves HC over poor sanitation in SBS Nagar', 'Coimbatore: New sanitary workers while away time as expectations fall short', 'Sanitation workers get training', 'RMRC Bhubaneswar develops UV sanitized dustbin', 'Poor hygiene at Covid wards in North Karnataka', 'Colleges make sanitizers in their labs', 'No water supply in 535 government schools', 'BIEC lacks staff, water and sanitation: Congress', 'Well-trained sanitation workers keep city running', 'KSDP to launch Sanitizer wrist bands', 'Few takers for Jaipur Metro on Day 2 but people hail move to resume ops', 'How often should you clean your toilet', 'Noida waste vans targeted amid talks', '75% of govt Puja grant to clubs must be spent on masks, sanitizers: HC', 'Illegal parking & sanitation Adarsh Nagar’s major woes', 'Drones to keep vigil on sanitization, crowding in containment zones']\n",
      "['Sanitizer scam in LMC, probe begins', 'PMC sanitation staff want their own CCC', 'ASV players distribute masks, sanitizers to migrant workers', 'Odisha HC defers video hearings to tomorrow on account of buildings’ sanitisation', 'Weeks to go for Maha Kumbh, sanitation workers in Haridwar on strike for two days now; mounds of garbage and stench in holy city', 'Delhi: As masks, PPE kits head to landfills, you can’t shrug off share of blame', 'Chandrashekhar Azad joins sanitation workers’ stir in Noida, warns of a bigger protest', 'Car crushes sanitation worker to death in Vijayawada', 'Publish the list of frontline warriors who died of Covid-19 and help their families: Gudur Narayana Reddy', 'Hand sanitizers donated for 32 buses at TNSTC Kovilpatti depot', 'Celebrating women in sanitation management', 'UP: Man booked for trying to rape sanitation worker', 'Ramgarh stinks as piles of garbage dot streets amid strike by civic workers', 'Hyderabad: Private agencies to run 10,000 public toilets', \"Robot to serve Covid-19 patients in Andhra Pradesh's Vizag\", 'Free ration kits distributed to sanitation workers', 'CIFT develops seaweed-based sanitizer', 'Chhattisgarh: Padwoman distributes napkins, raincoats to sanitation workers', 'Ashok Gehlot bats for safety of sanitation workers', 'Workers steal safety gear worth Rs 7 lakh']\n",
      "[INFO] Links Extracted.\n",
      "The total no. of pages is= 400\n",
      "No. articles= 400\n",
      "Last article goes back till:  2020-03-13\n",
      "[INFO] Extracting articles...\n"
     ]
    },
    {
     "name": "stderr",
     "output_type": "stream",
     "text": [
      " 82%|█████████████████████████████████████████████████████████████████▍              | 327/400 [43:42<11:21,  9.33s/it]"
     ]
    }
   ],
   "source": [
    "from bs4 import BeautifulSoup\n",
    "from requests import get\n",
    "import pandas as pd\n",
    "from tqdm import tqdm\n",
    "from dateutil import parser\n",
    "import string\n",
    "\n",
    "# Checking for the total no. of pages\n",
    "\n",
    "url = 'https://timesofindia.indiatimes.com/topic/Sanitizer/news/'\n",
    "soup = BeautifulSoup(get(url).text, 'lxml')\n",
    "\n",
    "##Because the website displays ages only till 20\n",
    "max_urls = [url + str(i) for i in range(1, 21)]\n",
    "\n",
    "# Creating empty lists to save all the features\n",
    "headlines, dates, news, urls = [], [], [], []\n",
    "\n",
    "print(\"[INFO] Extracting links...\")\n",
    "# Extracting all the Headlines, dates and the urls of the articles\n",
    "for index in max_urls:\n",
    "\n",
    "    try:\n",
    "        soup = BeautifulSoup(get(index).text, 'lxml')\n",
    "\n",
    "        # Extracts the Headlines\n",
    "        try:\n",
    "            headline = [soup.select('span.title')[i].text.strip() for i in range(len(soup.select('span.title')))]\n",
    "            print(headline)\n",
    "            headlines.extend(headline)\n",
    "        except:\n",
    "            headlines.extend(None)\n",
    "            \n",
    "            try:\n",
    "            news = [soup.select('span.title')[i].text.strip() for i in range(len(soup.select('span.title')))]\n",
    "            print(headline)\n",
    "            headlines.extend(headline)\n",
    "        except:\n",
    "            headlines.extend(None)\n",
    "\n",
    "\n",
    "        # Extracts the published dates\n",
    "        try:\n",
    "            pub_date = [str(parser.parse(soup.select('span.meta')[0].text)).split()[0] for i in\n",
    "                        range(len(soup.select('span.meta')))]\n",
    "            dates.extend(pub_date)\n",
    "        except:\n",
    "            dates.extend(None)\n",
    "\n",
    "        # Extracts the urls\n",
    "        try:\n",
    "            source = ['https://timesofindia.indiatimes.com' + soup.select('.content')[i].a['href'] for i in\n",
    "                      range(len(soup.select('span.meta')))]\n",
    "            urls.extend(source)\n",
    "        except:\n",
    "            urls.extend(None)\n",
    "\n",
    "    except:\n",
    "        break\n",
    "\n",
    "print(\"[INFO] Links Extracted.\")\n",
    "\n",
    "print(\"The total no. of pages is=\", len(urls))\n",
    "# print(set(dates))\n",
    "print(\"No. articles=\", len(dates))\n",
    "print(\"Last article goes back till: \", min(dates))\n",
    "\n",
    "print(\"[INFO] Extracting articles...\")\n",
    "c = 0\n",
    "for index in tqdm(urls):\n",
    "    try:\n",
    "        # Parse the url to NewsPlease\n",
    "        soup = BeautifulSoup(get(index).text, 'lxml')\n",
    "\n",
    "        # Extracts the news articles\n",
    "        try:\n",
    "            news_article = ''.join(\n",
    "                i for i in ' '.join(soup.select_one('._3WlLe').text.split()) if i in string.printable)\n",
    "            c += 1\n",
    "            print(c)\n",
    "            news.append(news_article)\n",
    "        except:\n",
    "            news.append(None)\n",
    "\n",
    "    except:\n",
    "        news.append(None)\n",
    "\n",
    "print(\"[INFO] Articles Extracted.\")\n",
    "\n",
    "df = pd.DataFrame({'Headlines': headlines,\n",
    "                   'Article': news,\n",
    "                   'Published_Dates': dates,\n",
    "                   'Source_URLs': urls\n",
    "                   })\n",
    "# Checking for any missing values in the Dataframe\n",
    "# print(df.isna().sum())\n",
    "\n",
    "\n",
    "# Now also dropping all the other rows with empty values\n",
    "# df=df.dropna(axis = 0)\n",
    "print(\"Length: \", df.shape)\n",
    "\n",
    "df.to_csv(\"export.csv\")"
   ]
  },
  {
   "cell_type": "code",
   "execution_count": null,
   "metadata": {},
   "outputs": [],
   "source": []
  },
  {
   "cell_type": "code",
   "execution_count": null,
   "metadata": {},
   "outputs": [],
   "source": []
  },
  {
   "cell_type": "code",
   "execution_count": null,
   "metadata": {},
   "outputs": [],
   "source": []
  },
  {
   "cell_type": "code",
   "execution_count": null,
   "metadata": {},
   "outputs": [],
   "source": []
  },
  {
   "cell_type": "code",
   "execution_count": null,
   "metadata": {},
   "outputs": [],
   "source": []
  }
 ],
 "metadata": {
  "kernelspec": {
   "display_name": "Python 3",
   "language": "python",
   "name": "python3"
  },
  "language_info": {
   "codemirror_mode": {
    "name": "ipython",
    "version": 3
   },
   "file_extension": ".py",
   "mimetype": "text/x-python",
   "name": "python",
   "nbconvert_exporter": "python",
   "pygments_lexer": "ipython3",
   "version": "3.8.3"
  }
 },
 "nbformat": 4,
 "nbformat_minor": 4
}
